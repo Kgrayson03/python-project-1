{
  "nbformat": 4,
  "nbformat_minor": 0,
  "metadata": {
    "colab": {
      "name": "Probability",
      "provenance": [],
      "authorship_tag": "ABX9TyN2KJ5fpRHRsnwmuPhTgnpV",
      "include_colab_link": true
    },
    "kernelspec": {
      "name": "python3",
      "display_name": "Python 3"
    }
  },
  "cells": [
    {
      "cell_type": "markdown",
      "metadata": {
        "id": "view-in-github",
        "colab_type": "text"
      },
      "source": [
        "<a href=\"https://colab.research.google.com/github/Kgrayson03/python-project-1/blob/master/Probability.ipynb\" target=\"_parent\"><img src=\"https://colab.research.google.com/assets/colab-badge.svg\" alt=\"Open In Colab\"/></a>"
      ]
    },
    {
      "cell_type": "code",
      "metadata": {
        "id": "ILogWaXBDFUG",
        "colab_type": "code",
        "colab": {}
      },
      "source": [
        "def _gauss(x, mu=0, sigma=1):\n",
        "    return 1/(sigma*np.sqrt(2*np.pi)) * np.exp(-0.5*pow((x-mu)/sigma,2))\n",
        "gauss = np.vectorize(_gauss)\n",
        "\n",
        "\n",
        "fig = plt.figure()\n",
        "xlim = [1000, 2000] \n",
        "\n",
        "sigma = area.std()\n",
        "mu = area.mean()\n",
        "dx = np.linspace(*xlim)\n",
        "\n",
        "for i,n in enumerate(sample_sizes):\n",
        "    g = fig.add_subplot(3, 1, i+1)\n",
        "    g.hist(sample_means[n], label=\"n={:n}\".format(n), normed=True)\n",
        "    g.plot(dx, gauss(dx, mu, sigma/np.sqrt(n)))\n",
        "    g.set_xlim(*xlim)\n",
        "    g.legend(loc=\"upper right\", fontsize=10)"
      ],
      "execution_count": null,
      "outputs": []
    },
    {
      "cell_type": "code",
      "metadata": {
        "id": "_z9WY4MmDZhP",
        "colab_type": "code",
        "colab": {}
      },
      "source": [
        ""
      ],
      "execution_count": null,
      "outputs": []
    },
    {
      "cell_type": "code",
      "metadata": {
        "id": "56L-Zr7sveCB",
        "colab_type": "code",
        "colab": {
          "base_uri": "https://localhost:8080/",
          "height": 350
        },
        "outputId": "548996c9-a6c2-4cdb-f2e4-fa3bf4242cfa"
      },
      "source": [
        "%matplotlib inline\n",
        "import matplotlib.pyplot as plt\n",
        "import pandas as pd\n",
        "import numpy as np\n",
        "ames = pd.read_csv(\"https://data.cityofnewyork.us/api/views/25th-nujf/rows.csv\")\n",
        "ames.head(15)\n",
        "#ames.columns = [c.replace(\".\",\"\") for c in ames.columns]\n",
        "#area = ames[\"GrLivArea\"]\n",
        "#price = ames[\"SalePrice\"]\n",
        "#ames\n",
        "#area.hist(bins=range(0,6000,250), normed=True)\n",
        "#plt.xlabel(\"Above Ground Living Area (Sq. ft.)\")\n",
        "#plt.ylabel(\"Probability\")\n",
        "#samp=area.sample(50)\n",
        "#samp.mean()\n",
        "\n",
        "n = 50\n",
        "n_samples = 5000\n",
        "sample_means50 = [area.sample(n).mean() for i in range(n_samples)]\n",
        "plt.hist(sample_means50)\n",
        "plt.hist(sample_means50, bins=25)\n",
        "\n",
        "sample_sizes = [10, 50, 100]\n",
        "n_samples = 5000\n",
        "sample_means = {}\n",
        "for n in sample_sizes:\n",
        "    sample_means[n] = [area.sample(n).mean() for i in range(n_samples)]\n",
        "def _gauss(x, mu=0, sigma=1):\n",
        "    return 1/(sigma*np.sqrt(2*np.pi)) * np.exp(-0.5*pow((x-mu)/sigma,2))\n",
        "gauss = np.vectorize(_gauss)\n",
        "\n",
        "\n",
        "fig = plt.figure()\n",
        "xlim = [1000, 2000] \n",
        "\n",
        "sigma = area.std()\n",
        "mu = area.mean()\n",
        "dx = np.linspace(*xlim)\n",
        "\n",
        "for i,n in enumerate(sample_sizes):\n",
        "    g = fig.add_subplot(3, 1, i+1)\n",
        "    g.hist(sample_means[n], label=\"n={:n}\".format(n), normed=True)\n",
        "    g.plot(dx, gauss(dx, mu, sigma/np.sqrt(n)))\n",
        "    g.set_xlim(*xlim)\n",
        "    g.legend(loc=\"upper right\", fontsize=10)"
      ],
      "execution_count": null,
      "outputs": [
        {
          "output_type": "error",
          "ename": "NameError",
          "evalue": "ignored",
          "traceback": [
            "\u001b[0;31m---------------------------------------------------------------------------\u001b[0m",
            "\u001b[0;31mNameError\u001b[0m                                 Traceback (most recent call last)",
            "\u001b[0;32m<ipython-input-1-ef743fc0c588>\u001b[0m in \u001b[0;36m<module>\u001b[0;34m()\u001b[0m\n\u001b[1;32m     17\u001b[0m \u001b[0mn\u001b[0m \u001b[0;34m=\u001b[0m \u001b[0;36m50\u001b[0m\u001b[0;34m\u001b[0m\u001b[0;34m\u001b[0m\u001b[0m\n\u001b[1;32m     18\u001b[0m \u001b[0mn_samples\u001b[0m \u001b[0;34m=\u001b[0m \u001b[0;36m5000\u001b[0m\u001b[0;34m\u001b[0m\u001b[0;34m\u001b[0m\u001b[0m\n\u001b[0;32m---> 19\u001b[0;31m \u001b[0msample_means50\u001b[0m \u001b[0;34m=\u001b[0m \u001b[0;34m[\u001b[0m\u001b[0marea\u001b[0m\u001b[0;34m.\u001b[0m\u001b[0msample\u001b[0m\u001b[0;34m(\u001b[0m\u001b[0mn\u001b[0m\u001b[0;34m)\u001b[0m\u001b[0;34m.\u001b[0m\u001b[0mmean\u001b[0m\u001b[0;34m(\u001b[0m\u001b[0;34m)\u001b[0m \u001b[0;32mfor\u001b[0m \u001b[0mi\u001b[0m \u001b[0;32min\u001b[0m \u001b[0mrange\u001b[0m\u001b[0;34m(\u001b[0m\u001b[0mn_samples\u001b[0m\u001b[0;34m)\u001b[0m\u001b[0;34m]\u001b[0m\u001b[0;34m\u001b[0m\u001b[0;34m\u001b[0m\u001b[0m\n\u001b[0m\u001b[1;32m     20\u001b[0m \u001b[0mplt\u001b[0m\u001b[0;34m.\u001b[0m\u001b[0mhist\u001b[0m\u001b[0;34m(\u001b[0m\u001b[0msample_means50\u001b[0m\u001b[0;34m)\u001b[0m\u001b[0;34m\u001b[0m\u001b[0;34m\u001b[0m\u001b[0m\n\u001b[1;32m     21\u001b[0m \u001b[0mplt\u001b[0m\u001b[0;34m.\u001b[0m\u001b[0mhist\u001b[0m\u001b[0;34m(\u001b[0m\u001b[0msample_means50\u001b[0m\u001b[0;34m,\u001b[0m \u001b[0mbins\u001b[0m\u001b[0;34m=\u001b[0m\u001b[0;36m25\u001b[0m\u001b[0;34m)\u001b[0m\u001b[0;34m\u001b[0m\u001b[0;34m\u001b[0m\u001b[0m\n",
            "\u001b[0;32m<ipython-input-1-ef743fc0c588>\u001b[0m in \u001b[0;36m<listcomp>\u001b[0;34m(.0)\u001b[0m\n\u001b[1;32m     17\u001b[0m \u001b[0mn\u001b[0m \u001b[0;34m=\u001b[0m \u001b[0;36m50\u001b[0m\u001b[0;34m\u001b[0m\u001b[0;34m\u001b[0m\u001b[0m\n\u001b[1;32m     18\u001b[0m \u001b[0mn_samples\u001b[0m \u001b[0;34m=\u001b[0m \u001b[0;36m5000\u001b[0m\u001b[0;34m\u001b[0m\u001b[0;34m\u001b[0m\u001b[0m\n\u001b[0;32m---> 19\u001b[0;31m \u001b[0msample_means50\u001b[0m \u001b[0;34m=\u001b[0m \u001b[0;34m[\u001b[0m\u001b[0marea\u001b[0m\u001b[0;34m.\u001b[0m\u001b[0msample\u001b[0m\u001b[0;34m(\u001b[0m\u001b[0mn\u001b[0m\u001b[0;34m)\u001b[0m\u001b[0;34m.\u001b[0m\u001b[0mmean\u001b[0m\u001b[0;34m(\u001b[0m\u001b[0;34m)\u001b[0m \u001b[0;32mfor\u001b[0m \u001b[0mi\u001b[0m \u001b[0;32min\u001b[0m \u001b[0mrange\u001b[0m\u001b[0;34m(\u001b[0m\u001b[0mn_samples\u001b[0m\u001b[0;34m)\u001b[0m\u001b[0;34m]\u001b[0m\u001b[0;34m\u001b[0m\u001b[0;34m\u001b[0m\u001b[0m\n\u001b[0m\u001b[1;32m     20\u001b[0m \u001b[0mplt\u001b[0m\u001b[0;34m.\u001b[0m\u001b[0mhist\u001b[0m\u001b[0;34m(\u001b[0m\u001b[0msample_means50\u001b[0m\u001b[0;34m)\u001b[0m\u001b[0;34m\u001b[0m\u001b[0;34m\u001b[0m\u001b[0m\n\u001b[1;32m     21\u001b[0m \u001b[0mplt\u001b[0m\u001b[0;34m.\u001b[0m\u001b[0mhist\u001b[0m\u001b[0;34m(\u001b[0m\u001b[0msample_means50\u001b[0m\u001b[0;34m,\u001b[0m \u001b[0mbins\u001b[0m\u001b[0;34m=\u001b[0m\u001b[0;36m25\u001b[0m\u001b[0;34m)\u001b[0m\u001b[0;34m\u001b[0m\u001b[0;34m\u001b[0m\u001b[0m\n",
            "\u001b[0;31mNameError\u001b[0m: name 'area' is not defined"
          ]
        }
      ]
    },
    {
      "cell_type": "code",
      "metadata": {
        "id": "31fk6FhIEAHK",
        "colab_type": "code",
        "colab": {}
      },
      "source": [
        "%matplotlib inline\n",
        "import matplotlib.pyplot as plt\n",
        "import pandas as pd\n",
        "import numpy as np\n",
        "ames = pd.read_csv(\"https://data.cityofnewyork.us/api/views/25th-nujf/rows.csv\")\n",
        "ames.head(15)\n",
        "#ames.columns = [c.replace(\".\",\"\") for c in ames.columns]\n",
        "#area = ames[\"GrLivArea\"]\n",
        "#price = ames[\"SalePrice\"]\n",
        "#ames\n",
        "#area.hist(bins=range(0,6000,250), normed=True)\n",
        "#plt.xlabel(\"Above Ground Living Area (Sq. ft.)\")\n",
        "#plt.ylabel(\"Probability\")\n",
        "#samp=area.sample(50)\n",
        "#samp.mean()\n",
        "\n",
        "n = 50\n",
        "n_samples = 5000\n",
        "sample_means50 = [area.sample(n).mean() for i in range(n_samples)]\n",
        "plt.hist(sample_means50)\n",
        "plt.hist(sample_means50, bins=25)\n",
        "\n",
        "sample_sizes = [10, 50, 100]\n",
        "n_samples = 5000\n",
        "sample_means = {}\n",
        "for n in sample_sizes:\n",
        "    sample_means[n] = [area.sample(n).mean() for i in range(n_samples)]\n",
        "def _gauss(x, mu=0, sigma=1):\n",
        "    return 1/(sigma*np.sqrt(2*np.pi)) * np.exp(-0.5*pow((x-mu)/sigma,2))\n",
        "gauss = np.vectorize(_gauss)\n",
        "\n",
        "\n",
        "fig = plt.figure()\n",
        "xlim = [1000, 2000] \n",
        "\n",
        "sigma = area.std()\n",
        "mu = area.mean()\n",
        "dx = np.linspace(*xlim)\n",
        "\n",
        "for i,n in enumerate(sample_sizes):\n",
        "    g = fig.add_subplot(3, 1, i+1)\n",
        "    g.hist(sample_means[n], label=\"n={:n}\".format(n), normed=True)\n",
        "    g.plot(dx, gauss(dx, mu, sigma/np.sqrt(n)))\n",
        "    g.set_xlim(*xlim)\n",
        "    g.legend(loc=\"upper right\", fontsize=10)"
      ],
      "execution_count": null,
      "outputs": []
    }
  ]
}